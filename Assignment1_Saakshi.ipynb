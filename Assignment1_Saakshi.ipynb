{
  "nbformat": 4,
  "nbformat_minor": 0,
  "metadata": {
    "colab": {
      "name": "Assignment1_Saakshi.ipynb",
      "provenance": []
    },
    "kernelspec": {
      "name": "python3",
      "display_name": "Python 3"
    },
    "language_info": {
      "name": "python"
    }
  },
  "cells": [
    {
      "cell_type": "markdown",
      "source": [
        "##__Question 1: Pandas DataFrames (2 points)__\n",
        "In lecture 4, we saw a table describing the numbers of SARS-CoV-2 sequencing experiments in the SRA, broken down by Library Strategy and Platform. That table was created in January 2021 from metadata describing ~190k relevant experiments that existed in the SRA at that time.\n",
        "\n",
        "This year, we have been using a table describing ~2.5 million SARS-CoV-2 experiments in the SRA. Build an equivalent experiment counts table (i.e., broken down by Library Strategy and Platform) from the 2022 SRA metadata that we have been using (https://github.com/shaunmahony/BMMB554-2022/raw/main/data/sra_ncov_bmmb554_2022.csv.gz)."
      ],
      "metadata": {
        "id": "NiXa1AJ-2JZM"
      }
    },
    {
      "cell_type": "code",
      "source": [
        "! wget https://github.com/shaunmahony/BMMB554-2022/raw/main/data/sra_ncov_bmmb554_2022.csv.gz"
      ],
      "metadata": {
        "id": "5yYZSCX-3ZJ2"
      },
      "execution_count": null,
      "outputs": []
    },
    {
      "cell_type": "code",
      "source": [
        "!gunzip -c sra_ncov_bmmb554_2022.csv.gz | head\n"
      ],
      "metadata": {
        "id": "J9WHnP_3WQvc"
      },
      "execution_count": null,
      "outputs": []
    },
    {
      "cell_type": "code",
      "source": [
        "import pandas as pd \n",
        "import numpy as np\n",
        "# Converting a CSV file into a Pandas DataFrame\n",
        "df= pd.read_csv('sra_ncov_bmmb554_2022.csv.gz')\n",
        "# Outputing the first few lines\n",
        "df.head(20)"
      ],
      "metadata": {
        "id": "IadEZ_fgWzC8"
      },
      "execution_count": null,
      "outputs": []
    },
    {
      "cell_type": "code",
      "source": [
        "# The required DataFrame , grouped by Platform and LibraryStrategy. N represents the number of datasets.\n",
        "df.groupby(['Platform', 'LibraryStrategy']).size().reset_index(name='N')"
      ],
      "metadata": {
        "colab": {
          "base_uri": "https://localhost:8080/",
          "height": 645
        },
        "id": "Werqm-mw6Ome",
        "outputId": "7854aeb3-8a92-47b0-ada3-ba9b42e56de6"
      },
      "execution_count": null,
      "outputs": [
        {
          "output_type": "execute_result",
          "data": {
            "text/html": [
              "\n",
              "  <div id=\"df-413b2955-5d36-4998-b143-4c983a6ff6d2\">\n",
              "    <div class=\"colab-df-container\">\n",
              "      <div>\n",
              "<style scoped>\n",
              "    .dataframe tbody tr th:only-of-type {\n",
              "        vertical-align: middle;\n",
              "    }\n",
              "\n",
              "    .dataframe tbody tr th {\n",
              "        vertical-align: top;\n",
              "    }\n",
              "\n",
              "    .dataframe thead th {\n",
              "        text-align: right;\n",
              "    }\n",
              "</style>\n",
              "<table border=\"1\" class=\"dataframe\">\n",
              "  <thead>\n",
              "    <tr style=\"text-align: right;\">\n",
              "      <th></th>\n",
              "      <th>Platform</th>\n",
              "      <th>LibraryStrategy</th>\n",
              "      <th>N</th>\n",
              "    </tr>\n",
              "  </thead>\n",
              "  <tbody>\n",
              "    <tr>\n",
              "      <th>0</th>\n",
              "      <td>ILLUMINA</td>\n",
              "      <td>AMPLICON</td>\n",
              "      <td>2216812</td>\n",
              "    </tr>\n",
              "    <tr>\n",
              "      <th>1</th>\n",
              "      <td>ILLUMINA</td>\n",
              "      <td>OTHER</td>\n",
              "      <td>1</td>\n",
              "    </tr>\n",
              "    <tr>\n",
              "      <th>2</th>\n",
              "      <td>ILLUMINA</td>\n",
              "      <td>RNA-Seq</td>\n",
              "      <td>2815</td>\n",
              "    </tr>\n",
              "    <tr>\n",
              "      <th>3</th>\n",
              "      <td>ILLUMINA</td>\n",
              "      <td>Targeted-Capture</td>\n",
              "      <td>3565</td>\n",
              "    </tr>\n",
              "    <tr>\n",
              "      <th>4</th>\n",
              "      <td>ILLUMINA</td>\n",
              "      <td>WGA</td>\n",
              "      <td>20993</td>\n",
              "    </tr>\n",
              "    <tr>\n",
              "      <th>5</th>\n",
              "      <td>ILLUMINA</td>\n",
              "      <td>WGS</td>\n",
              "      <td>15650</td>\n",
              "    </tr>\n",
              "    <tr>\n",
              "      <th>6</th>\n",
              "      <td>ILLUMINA</td>\n",
              "      <td>WXS</td>\n",
              "      <td>2</td>\n",
              "    </tr>\n",
              "    <tr>\n",
              "      <th>7</th>\n",
              "      <td>ILLUMINA</td>\n",
              "      <td>miRNA-Seq</td>\n",
              "      <td>20</td>\n",
              "    </tr>\n",
              "    <tr>\n",
              "      <th>8</th>\n",
              "      <td>ION_TORRENT</td>\n",
              "      <td>AMPLICON</td>\n",
              "      <td>40079</td>\n",
              "    </tr>\n",
              "    <tr>\n",
              "      <th>9</th>\n",
              "      <td>ION_TORRENT</td>\n",
              "      <td>RNA-Seq</td>\n",
              "      <td>11</td>\n",
              "    </tr>\n",
              "    <tr>\n",
              "      <th>10</th>\n",
              "      <td>ION_TORRENT</td>\n",
              "      <td>WGA</td>\n",
              "      <td>724</td>\n",
              "    </tr>\n",
              "    <tr>\n",
              "      <th>11</th>\n",
              "      <td>ION_TORRENT</td>\n",
              "      <td>WGS</td>\n",
              "      <td>117</td>\n",
              "    </tr>\n",
              "    <tr>\n",
              "      <th>12</th>\n",
              "      <td>OXFORD_NANOPORE</td>\n",
              "      <td>AMPLICON</td>\n",
              "      <td>176790</td>\n",
              "    </tr>\n",
              "    <tr>\n",
              "      <th>13</th>\n",
              "      <td>OXFORD_NANOPORE</td>\n",
              "      <td>RNA-Seq</td>\n",
              "      <td>123</td>\n",
              "    </tr>\n",
              "    <tr>\n",
              "      <th>14</th>\n",
              "      <td>OXFORD_NANOPORE</td>\n",
              "      <td>WGA</td>\n",
              "      <td>2910</td>\n",
              "    </tr>\n",
              "    <tr>\n",
              "      <th>15</th>\n",
              "      <td>OXFORD_NANOPORE</td>\n",
              "      <td>WGS</td>\n",
              "      <td>3661</td>\n",
              "    </tr>\n",
              "    <tr>\n",
              "      <th>16</th>\n",
              "      <td>PACBIO_SMRT</td>\n",
              "      <td>AMPLICON</td>\n",
              "      <td>199902</td>\n",
              "    </tr>\n",
              "    <tr>\n",
              "      <th>17</th>\n",
              "      <td>PACBIO_SMRT</td>\n",
              "      <td>Synthetic-Long-Read</td>\n",
              "      <td>2</td>\n",
              "    </tr>\n",
              "    <tr>\n",
              "      <th>18</th>\n",
              "      <td>PACBIO_SMRT</td>\n",
              "      <td>WGS</td>\n",
              "      <td>48</td>\n",
              "    </tr>\n",
              "  </tbody>\n",
              "</table>\n",
              "</div>\n",
              "      <button class=\"colab-df-convert\" onclick=\"convertToInteractive('df-413b2955-5d36-4998-b143-4c983a6ff6d2')\"\n",
              "              title=\"Convert this dataframe to an interactive table.\"\n",
              "              style=\"display:none;\">\n",
              "        \n",
              "  <svg xmlns=\"http://www.w3.org/2000/svg\" height=\"24px\"viewBox=\"0 0 24 24\"\n",
              "       width=\"24px\">\n",
              "    <path d=\"M0 0h24v24H0V0z\" fill=\"none\"/>\n",
              "    <path d=\"M18.56 5.44l.94 2.06.94-2.06 2.06-.94-2.06-.94-.94-2.06-.94 2.06-2.06.94zm-11 1L8.5 8.5l.94-2.06 2.06-.94-2.06-.94L8.5 2.5l-.94 2.06-2.06.94zm10 10l.94 2.06.94-2.06 2.06-.94-2.06-.94-.94-2.06-.94 2.06-2.06.94z\"/><path d=\"M17.41 7.96l-1.37-1.37c-.4-.4-.92-.59-1.43-.59-.52 0-1.04.2-1.43.59L10.3 9.45l-7.72 7.72c-.78.78-.78 2.05 0 2.83L4 21.41c.39.39.9.59 1.41.59.51 0 1.02-.2 1.41-.59l7.78-7.78 2.81-2.81c.8-.78.8-2.07 0-2.86zM5.41 20L4 18.59l7.72-7.72 1.47 1.35L5.41 20z\"/>\n",
              "  </svg>\n",
              "      </button>\n",
              "      \n",
              "  <style>\n",
              "    .colab-df-container {\n",
              "      display:flex;\n",
              "      flex-wrap:wrap;\n",
              "      gap: 12px;\n",
              "    }\n",
              "\n",
              "    .colab-df-convert {\n",
              "      background-color: #E8F0FE;\n",
              "      border: none;\n",
              "      border-radius: 50%;\n",
              "      cursor: pointer;\n",
              "      display: none;\n",
              "      fill: #1967D2;\n",
              "      height: 32px;\n",
              "      padding: 0 0 0 0;\n",
              "      width: 32px;\n",
              "    }\n",
              "\n",
              "    .colab-df-convert:hover {\n",
              "      background-color: #E2EBFA;\n",
              "      box-shadow: 0px 1px 2px rgba(60, 64, 67, 0.3), 0px 1px 3px 1px rgba(60, 64, 67, 0.15);\n",
              "      fill: #174EA6;\n",
              "    }\n",
              "\n",
              "    [theme=dark] .colab-df-convert {\n",
              "      background-color: #3B4455;\n",
              "      fill: #D2E3FC;\n",
              "    }\n",
              "\n",
              "    [theme=dark] .colab-df-convert:hover {\n",
              "      background-color: #434B5C;\n",
              "      box-shadow: 0px 1px 3px 1px rgba(0, 0, 0, 0.15);\n",
              "      filter: drop-shadow(0px 1px 2px rgba(0, 0, 0, 0.3));\n",
              "      fill: #FFFFFF;\n",
              "    }\n",
              "  </style>\n",
              "\n",
              "      <script>\n",
              "        const buttonEl =\n",
              "          document.querySelector('#df-413b2955-5d36-4998-b143-4c983a6ff6d2 button.colab-df-convert');\n",
              "        buttonEl.style.display =\n",
              "          google.colab.kernel.accessAllowed ? 'block' : 'none';\n",
              "\n",
              "        async function convertToInteractive(key) {\n",
              "          const element = document.querySelector('#df-413b2955-5d36-4998-b143-4c983a6ff6d2');\n",
              "          const dataTable =\n",
              "            await google.colab.kernel.invokeFunction('convertToInteractive',\n",
              "                                                     [key], {});\n",
              "          if (!dataTable) return;\n",
              "\n",
              "          const docLinkHtml = 'Like what you see? Visit the ' +\n",
              "            '<a target=\"_blank\" href=https://colab.research.google.com/notebooks/data_table.ipynb>data table notebook</a>'\n",
              "            + ' to learn more about interactive tables.';\n",
              "          element.innerHTML = '';\n",
              "          dataTable['output_type'] = 'display_data';\n",
              "          await google.colab.output.renderOutput(dataTable, element);\n",
              "          const docLink = document.createElement('div');\n",
              "          docLink.innerHTML = docLinkHtml;\n",
              "          element.appendChild(docLink);\n",
              "        }\n",
              "      </script>\n",
              "    </div>\n",
              "  </div>\n",
              "  "
            ],
            "text/plain": [
              "           Platform      LibraryStrategy        N\n",
              "0          ILLUMINA             AMPLICON  2216812\n",
              "1          ILLUMINA                OTHER        1\n",
              "2          ILLUMINA              RNA-Seq     2815\n",
              "3          ILLUMINA     Targeted-Capture     3565\n",
              "4          ILLUMINA                  WGA    20993\n",
              "5          ILLUMINA                  WGS    15650\n",
              "6          ILLUMINA                  WXS        2\n",
              "7          ILLUMINA            miRNA-Seq       20\n",
              "8       ION_TORRENT             AMPLICON    40079\n",
              "9       ION_TORRENT              RNA-Seq       11\n",
              "10      ION_TORRENT                  WGA      724\n",
              "11      ION_TORRENT                  WGS      117\n",
              "12  OXFORD_NANOPORE             AMPLICON   176790\n",
              "13  OXFORD_NANOPORE              RNA-Seq      123\n",
              "14  OXFORD_NANOPORE                  WGA     2910\n",
              "15  OXFORD_NANOPORE                  WGS     3661\n",
              "16      PACBIO_SMRT             AMPLICON   199902\n",
              "17      PACBIO_SMRT  Synthetic-Long-Read        2\n",
              "18      PACBIO_SMRT                  WGS       48"
            ]
          },
          "metadata": {},
          "execution_count": 52
        }
      ]
    },
    {
      "cell_type": "markdown",
      "source": [
        "#### Some of my observations while comparing last year's statistics and the current one:\n",
        "1. Two of the previously used platforms were eliminated this year - BGISEQ and Capillary.\n",
        "2. New library strategies have been added in case of ILLUMINA - miRNA-Seq and WXS and in case of PACBIO_SMRT - WGS\n",
        "3. Last year's experiments were dominated by ILLUMINA and OXFORD_NANOPORE while this year in addition to those, there is a significant increase in PACBIO_SMRT experiments as well."
      ],
      "metadata": {
        "id": "B4BaVdT6HXuz"
      }
    },
    {
      "cell_type": "markdown",
      "source": [
        "###__Question 2: What’s the best starting Wordle word?__\n",
        "\n",
        "If it were me, I would stick with a classic information content approach. You could first count how often each possible letter is used in the list of words. The word with the highest information content would then be a word that contains a combination of the most frequently occurring letters. Such a word would literally be the word that maximizes your chances to turn Wordle boxes green or orange. More specifically, the approach could be:\n",
        "\n",
        "Count the occurrences of each letter (a-z) in the file. These counts become the “score” associated with each letter.\n",
        "Score each possible word by summing the per-letter scores.\n",
        "Sort the words by score.\n",
        "\n",
        "__Provide me with a list of the 10 most informative words and the 10 least informative words.__"
      ],
      "metadata": {
        "id": "Plw3LRtlocso"
      }
    },
    {
      "cell_type": "markdown",
      "source": [
        "Your job is to find the most informative word. You can define “informative” as you wish, as long as two conditions are met:\n",
        "\n",
        "__You clearly describe your definition and rationale in the workbook.__\n",
        "\n",
        "__Answer:__ I have chosen the information content approach as well. But i would also like to point out that a word with all the unique and most frequently occuring letters (obtained by the above list) would be the most informative word.\n",
        "\n",
        "\n",
        "You perform a search over all words in the above file to find a word that maximizes your definition of “informative”."
      ],
      "metadata": {
        "id": "QE9cpIkbRNQ9"
      }
    },
    {
      "cell_type": "code",
      "source": [
        "!wget 'https://raw.githubusercontent.com/shaunmahony/BMMB554-2022/main/homework/hw1/wordlewords.txt'"
      ],
      "metadata": {
        "id": "Z-oi5Ov636C1"
      },
      "execution_count": null,
      "outputs": []
    },
    {
      "cell_type": "code",
      "execution_count": null,
      "metadata": {
        "colab": {
          "base_uri": "https://localhost:8080/"
        },
        "id": "WECBm66RoQYH",
        "outputId": "23448bb9-ee23-4eb3-b230-db7dd8a727d1"
      },
      "outputs": [
        {
          "output_type": "stream",
          "name": "stdout",
          "text": [
            "{'i': 3759, 'd': 2453, 'e': 6662, 'n': 2952, 't': 3295, 'b': 1627, 'o': 4438, 'u': 2511, 'f': 1115, 'l': 3371, 's': 6665, 'c': 2028, 'r': 4158, 'm': 1976, 'g': 1644, 'y': 2074, 'a': 5990, 'k': 1505, 'j': 291, 'w': 1039, 'h': 1760, 'v': 694, 'p': 2019, 'z': 434, 'x': 288, 'q': 112}\n"
          ]
        }
      ],
      "source": [
        "# Open the text file in Reading Mode.\n",
        "fh=open(\"wordlewords.txt\",'r')\n",
        "# Creating a list of all the lines int file. every line is a single 5-letter word.\n",
        "word_list= fh.readlines()\n",
        "# Converting the list into a string (Convenient to itterate and get the frequency counts)\n",
        "word_str=\"\\n\".join(word_list).replace(\"\\n\",\"\")\n",
        "# Stripping the newline charachter from all the elemnts \n",
        "conv_word_list = []\n",
        "for element in word_list:\n",
        "    conv_word_list.append(element.strip(\"\\n\"))\n",
        "# print(conv_word_list) : used for debugging\n",
        "# A function to count the number of occurences of a character\n",
        "def count(str):\n",
        "  return {i: word_str.count(i) for i in word_str}\n",
        "  \n",
        "# Function call to count the characters\n",
        "letter_count = count(word_str)\n",
        "print(letter_count)\n",
        "# lc= Counter(letter_count) \n",
        "# print(lc.most_common()) - to check the most frequent ones present.\n",
        "# Scoring the words w.r.t the frequency counts.\n",
        "score_list=[]\n",
        "score_dict={}\n",
        "for ln in range(len(conv_word_list)):\n",
        "    score=0\n",
        "    for i in conv_word_list[ln]:\n",
        "        score+=letter_count[i]\n",
        "    # print(score) : Debugging\n",
        "    score_list.append(score)\n",
        "    # Populating the dictionary.\n",
        "    score_dict[conv_word_list[ln]]=score\n",
        "\n",
        "a=dict(sorted(score_dict.items(), key=lambda item: item[1], reverse=True))\n",
        "\n"
      ]
    },
    {
      "cell_type": "code",
      "source": [
        "# Removing words with the same letter composition and same score.\n",
        "temp = []\n",
        "res = dict()\n",
        "for key, val in a.items():\n",
        "    if val not in temp:\n",
        "        temp.append(val)\n",
        "        res[key] = val\n",
        "print(\"The 10 most informative words: \" , list(res.items())[:10])\n",
        "print(\"The 10 least informative words: \", list(res.items())[-10:])"
      ],
      "metadata": {
        "colab": {
          "base_uri": "https://localhost:8080/"
        },
        "id": "7fzEjCpWnzXo",
        "outputId": "3f90e239-022b-4a06-946a-c1f4936e033c"
      },
      "execution_count": null,
      "outputs": [
        {
          "output_type": "stream",
          "name": "stdout",
          "text": [
            "The 10 most informative words:  [('esses', 33319), ('asses', 32647), ('sease', 32644), ('reses', 30812), ('resee', 30809), ('oases', 30420), ('sises', 30416), ('seise', 30413), ('rasse', 30140), ('erase', 30137)]\n",
            "The 10 least informative words:  [('phizz', 8406), ('jiffy', 8354), ('bizzy', 8328), ('fuffy', 7930), ('fizzy', 7816), ('muzzy', 7429), ('whizz', 7426), ('huzzy', 7213), ('buzzy', 7080), ('fuzzy', 6568)]\n"
          ]
        }
      ]
    },
    {
      "cell_type": "markdown",
      "source": [
        "As one can see, all the words have repeatitive characters in them - though the score is found to be high."
      ],
      "metadata": {
        "id": "HsMhtwjsd2pq"
      }
    },
    {
      "cell_type": "markdown",
      "source": [
        "###__Question 3: Do sequencing errors impact read mapping rates? (4 points)__\n",
        "In Lecture 5, we familiarized ourselves with the FASTQ file format in this notebook: (https://colab.research.google.com/github/shaunmahony/BMMB554-2022/blob/master/ipynb/FASTQ.ipynb). We learned how the quality string letters encode probability values, which in turn represent the probabilities that the corresponding sequenced base is incorrectly called by the sequencer. We also defined functions in the workbook that can help you to convert between FASTQ quality letters and the probability values.\n",
        "\n",
        "Here, I want you to use a collection of real Illumina FASTQ quality strings to simulate “sequencing errors” in a collection of sequences that have been sampled at random from the human genome (hg38 build). You will then map the “simulated” reads back to the genome (using your choice of aligner like BWA or Bowtie). Compare the uniquely mapping read rates between the perfectly sampled reads and the simulated sequencing error reads. Use your observations to answer the question: Do typical sequencing error rates impact read alignment?\n",
        "\n",
        "Here’s the data you’ll need:\n",
        "\n",
        "1M perfectly sampled 50bp sequences from hg38\n",
        "FASTA format (gzipped): https://raw.githubusercontent.com/shaunmahony/BMMB554-2022/main/homework/hw1/rand1M.fa.gz\n",
        "\n",
        "FASTQ format (gzipped) with fake “perfect” quality scores: https://raw.githubusercontent.com/shaunmahony/BMMB554-2022/main/homework/hw1/rand1M.fq.gz\n",
        "\n",
        "1M Illumina quality scores (50bp length)\n",
        "TXT format (gzipped): https://raw.githubusercontent.com/shaunmahony/BMMB554-2022/main/homework/hw1/quals1M.txt.gz\n",
        "\n",
        "How will you simulate sequencing errors? I would do \n",
        "something like the following:\n",
        "\n",
        "1.Read in the FASTA sequences and the quality score strings. \n",
        "\n",
        "2.Pair them up (there are 1M of each).\n",
        "\n",
        "3.Iterate through each sequence & quality string pair\n",
        "\n",
        "4.Iterate through each character in the quality string\n",
        "\n",
        "5.Convert the quality character to a p-value\n",
        "\n",
        "6.Roll a dice with a random number generator.\n",
        "\n",
        "7.If the random number is less than the p-value, “mutate” the base in the corresponding position in the sequence. \n",
        "\n",
        "8.If the sequence letter was an A, replace with a random choice from C,G,T, etc.\n",
        "\n",
        "9.Otherwise leave the base in the corresponding sequence position alone.\n",
        "\n",
        "10.Print all sequence/quality string pairs out in FASTQ format (the name of the sequence can be random or related to the FASTA header - doesn’t really matter).\n",
        "\n",
        "11.After making your simulated sequences, map them and the “perfect” FASTQ format file above to hg38 (Galaxy or command line is fine). Check mapping rates.\n",
        "\n",
        "If you’re interested, you can further check whether the reads are being mapped to the correct positions (there are contained in the names of the FASTA sequences), but this is not required for the homework assignment."
      ],
      "metadata": {
        "id": "0oH4ChNiX8eo"
      }
    },
    {
      "cell_type": "code",
      "source": [
        "!wget https://raw.githubusercontent.com/shaunmahony/BMMB554-2022/main/homework/hw1/rand1M.fa.gz"
      ],
      "metadata": {
        "id": "Rn0f8m2lcyaf"
      },
      "execution_count": null,
      "outputs": []
    },
    {
      "cell_type": "code",
      "source": [
        "!wget https://raw.githubusercontent.com/shaunmahony/BMMB554-2022/main/homework/hw1/quals1M.txt.gz"
      ],
      "metadata": {
        "id": "oHa0kDCrc6z1"
      },
      "execution_count": null,
      "outputs": []
    },
    {
      "cell_type": "code",
      "source": [
        "!gunzip rand1M.fa.gz"
      ],
      "metadata": {
        "id": "8hClFep2dIH2"
      },
      "execution_count": null,
      "outputs": []
    },
    {
      "cell_type": "code",
      "source": [
        "!head rand1M.fa"
      ],
      "metadata": {
        "id": "IRUjzhPfehpg"
      },
      "execution_count": null,
      "outputs": []
    },
    {
      "cell_type": "code",
      "source": [
        "!gunzip quals1M.txt.gz"
      ],
      "metadata": {
        "id": "oO816My8dYVl"
      },
      "execution_count": null,
      "outputs": []
    },
    {
      "cell_type": "code",
      "source": [
        "# Reading the FASTA file\n",
        "fa_file=open(\"rand1M.fa\",\"r\")\n",
        "# Reading the quality score file\n",
        "qual_scr=open(\"quals1M.txt\",\"r\")\n",
        "# Generating a list of the sequences paired with quality scores\n",
        "read_paired=[]"
      ],
      "metadata": {
        "id": "_l8GvAYo34gm"
      },
      "execution_count": null,
      "outputs": []
    },
    {
      "cell_type": "code",
      "source": [
        "# Function to pair up the sequences with the quality scores\n",
        "def pair_fa_qual(fa,qual):\n",
        "  while True:\n",
        "    first_line = fa.readline()\n",
        "    if len(first_line) == 0:\n",
        "      break  # end of file\n",
        "    name = first_line[1:].rstrip()\n",
        "    seq = fa.readline().rstrip()\n",
        "    qual = qual_scr.readline().rstrip()\n",
        "    read_paired.append((name, seq, qual))\n",
        "  return read_paired\n",
        "# a list containing pairs of sequences and quality scores (as a tuple)\n",
        "p = pair_fa_qual(fa_file,qual_scr)\n",
        "\n",
        "p[0:5]\n",
        "\n"
      ],
      "metadata": {
        "id": "s8Y1fOP6eHUY"
      },
      "execution_count": null,
      "outputs": []
    },
    {
      "cell_type": "code",
      "source": [
        "# Functions to convert quality scores into p-values\n",
        "def phred33_to_q(qual):\n",
        "  \"\"\" Turn Phred+33 ASCII-encoded quality into Phred-scaled integer \"\"\"\n",
        "  return ord(qual)-33\n",
        "\n",
        "def q_to_p(Q):\n",
        "  \"\"\" Turn Phred-scaled integer into error probability \"\"\"\n",
        "  return 10.0 ** (-0.1 * Q)"
      ],
      "metadata": {
        "id": "ZN_sYjd73Mue"
      },
      "execution_count": null,
      "outputs": []
    },
    {
      "cell_type": "code",
      "source": [
        "# Converting a string into a list\n",
        "def Convert(string):\n",
        "    list1=[]\n",
        "    list1[:0]=string\n",
        "    return list1"
      ],
      "metadata": {
        "id": "qLnAe3Vz-SNt"
      },
      "execution_count": null,
      "outputs": []
    },
    {
      "cell_type": "code",
      "source": [
        "# Generating a random number between 0 and 1\n",
        "import random \n",
        "random.seed(1)\n"
      ],
      "metadata": {
        "id": "_JLO5XRT9vUn"
      },
      "execution_count": null,
      "outputs": []
    },
    {
      "cell_type": "code",
      "source": [
        "# Function to mutate : \n",
        "def mutate(ind,seq):\n",
        "  for n in ind:\n",
        "      if seq[n]=='A':\n",
        "        seq[n] = random.choice('CGT')\n",
        "          \n",
        "      elif seq[n]=='C':\n",
        "        seq[n]= random.choice('AGT')\n",
        "          \n",
        "      elif seq[n]=='G':\n",
        "        seq[n]= random.choice('CAT')\n",
        "          \n",
        "      elif seq[n]=='T':\n",
        "        seq[n]= random.choice('CGA')\n",
        "\n",
        "      else:\n",
        "          seq[n]= random.choice('CGAT')\n",
        "  return seq\n",
        "  \n",
        "  \n"
      ],
      "metadata": {
        "id": "B-NN4AAREuy7"
      },
      "execution_count": null,
      "outputs": []
    },
    {
      "cell_type": "code",
      "source": [
        "# Converting quality scores into p-values\n",
        "# For the entire length of p \n",
        "# Open a new FASTQ file in append mode - Mutated Reads\n",
        "\n",
        "new_fastq=open(\"SimulReads.fastq\",\"a\")\n",
        "for item in p[:]:\n",
        "    # Accessing the second element in the pairs\n",
        "  q_string = list(map(phred33_to_q, item[2]))\n",
        "  p_string = list(map(q_to_p, q_string))\n",
        "  #print(p_string)\n",
        "  seq=Convert(item[1])\n",
        "  random.seed(1)\n",
        "  # The interval is set to this narrow in order to increase the mutation rate\n",
        "  x=random.uniform(0.0001,0.002)\n",
        "  #print(x) : debugging\n",
        "  # Getting the indicies to mutate.\n",
        "  ind=[]\n",
        "  for i in range(len(p_string)):\n",
        "    if x < p_string[i]:\n",
        "      ind.append(i)\n",
        "    else:\n",
        "      pass\n",
        "  # print(ind) : debugging\n",
        "  # Function Call\n",
        "  new_seq = mutate(ind,seq)\n",
        "  a = (''.join(new_seq))\n",
        "  #print(a) : debugging \n",
        "  # Appending to a new fastq file \n",
        "  # Name of the Sequence\n",
        "  new_fastq.writelines(\"@\"+item[0]+\"\\n\")\n",
        "  # The mutated DNA sequence\n",
        "  new_fastq.writelines(a + \"\\n\")\n",
        "  new_fastq.writelines(\"+ \\n\")\n",
        "  # Corresponding Quality Strings\n",
        "  new_fastq.writelines(item[2]+\"\\n\")\n",
        "\n",
        "new_fastq.close()\n",
        "\n",
        "\n",
        "      "
      ],
      "metadata": {
        "id": "Kz3bDCox754-"
      },
      "execution_count": null,
      "outputs": []
    },
    {
      "cell_type": "code",
      "source": [
        "!head SimulReads.fastq"
      ],
      "metadata": {
        "id": "TctB4ItbYdWn"
      },
      "execution_count": null,
      "outputs": []
    },
    {
      "cell_type": "code",
      "source": [
        "!wc -l Simul_Reads.fastq "
      ],
      "metadata": {
        "id": "d9tD59I2ZyGG"
      },
      "execution_count": null,
      "outputs": []
    },
    {
      "cell_type": "code",
      "source": [
        "!apt install bwa"
      ],
      "metadata": {
        "id": "URGE4T22Z4V_"
      },
      "execution_count": null,
      "outputs": []
    },
    {
      "cell_type": "code",
      "source": [
        "!apt install samtools"
      ],
      "metadata": {
        "id": "0NCYBCGm8Hhy"
      },
      "execution_count": null,
      "outputs": []
    },
    {
      "cell_type": "code",
      "source": [
        "!wget https://hgdownload.soe.ucsc.edu/goldenPath/hg38/bigZips/hg38.fa.gz"
      ],
      "metadata": {
        "id": "DDq9nmpfBh6R"
      },
      "execution_count": null,
      "outputs": []
    },
    {
      "cell_type": "code",
      "source": [
        "!wget https://raw.githubusercontent.com/shaunmahony/BMMB554-2022/main/homework/hw1/rand1M.fq.gz"
      ],
      "metadata": {
        "id": "VcJUPgd7nW8h"
      },
      "execution_count": null,
      "outputs": []
    },
    {
      "cell_type": "code",
      "source": [
        "!gunzip hg38.fa.gz"
      ],
      "metadata": {
        "id": "XSANQ8m7nLlT"
      },
      "execution_count": null,
      "outputs": []
    },
    {
      "cell_type": "code",
      "source": [
        "!gunzip rand1M.fq.gz"
      ],
      "metadata": {
        "id": "X-W_wp0Qna9H"
      },
      "execution_count": null,
      "outputs": []
    },
    {
      "cell_type": "code",
      "source": [
        "# Indexing the reference genome.\n",
        "# Donot run this command ! this was run on a cluster. \n",
        "!bwa index hg38.fa"
      ],
      "metadata": {
        "id": "fVdz2yhInNOd"
      },
      "execution_count": null,
      "outputs": []
    },
    {
      "cell_type": "code",
      "source": [
        "!bwa mem hg38.fa rand1M.fq > output_1.sam"
      ],
      "metadata": {
        "id": "Qjj6ZYnjnShg"
      },
      "execution_count": null,
      "outputs": []
    },
    {
      "cell_type": "code",
      "source": [
        "!samtools flagstat output_1.sam "
      ],
      "metadata": {
        "id": "kvWSQsTwo-dH"
      },
      "execution_count": null,
      "outputs": []
    },
    {
      "cell_type": "markdown",
      "source": [
        " Output_1:\n",
        "1000000 + 0 in total (QC-passed reads + QC-failed reads)\n",
        "\n",
        "0 + 0 secondary\n",
        "\n",
        "0 + 0 supplementary\n",
        "\n",
        "0 + 0 duplicates\n",
        "\n",
        "946873 + 0 mapped (94.69% : N/A)\n",
        "\n",
        "0 + 0 paired in sequencing\n",
        "\n",
        "0 + 0 read1\n",
        "\n",
        "0 + 0 read2\n",
        "\n",
        "0 + 0 properly paired (N/A : N/A)\n",
        "\n",
        "0 + 0 with itself and mate mapped\n",
        "\n",
        "0 + 0 singletons (N/A : N/A)\n",
        "\n",
        "0 + 0 with mate mapped to a different chr\n",
        "\n",
        "0 + 0 with mate mapped to a different chr (mapQ>=5)"
      ],
      "metadata": {
        "id": "evPEwdH5ve13"
      }
    },
    {
      "cell_type": "markdown",
      "source": [
        "__The mapping rate was found to be 94.69%__"
      ],
      "metadata": {
        "id": "xeNyPRUApWb7"
      }
    },
    {
      "cell_type": "code",
      "source": [
        "!bwa mem hg38.fa SimulReads.fastq > output_2.sam"
      ],
      "metadata": {
        "id": "op_ZBX3ppzj1"
      },
      "execution_count": null,
      "outputs": []
    },
    {
      "cell_type": "code",
      "source": [
        "!samtools flagstat output_2.sam "
      ],
      "metadata": {
        "id": "9j21idkmqND9"
      },
      "execution_count": null,
      "outputs": []
    },
    {
      "cell_type": "code",
      "source": [
        "# Output_2: \n",
        "# 1000001 + 0 in total (QC-passed reads + QC-failed reads)\n",
        "# 0 + 0 secondary\n",
        "# 1 + 0 supplementary\n",
        "# 0 + 0 duplicates\n",
        "# 323379 + 0 mapped (32.34% : N/A)\n",
        "# 0 + 0 paired in sequencing\n",
        "# 0 + 0 read1\n",
        "# 0 + 0 read2\n",
        "# 0 + 0 properly paired (N/A : N/A)\n",
        "# 0 + 0 with itself and mate mapped\n",
        "# 0 + 0 singletons (N/A : N/A)\n",
        "# 0 + 0 with mate mapped to a different chr\n",
        "# 0 + 0 with mate mapped to a different chr (mapQ>=5)"
      ],
      "metadata": {
        "id": "-0R2UWwwqRe4"
      },
      "execution_count": null,
      "outputs": []
    },
    {
      "cell_type": "markdown",
      "source": [
        "__The mapping rate was found to be 32.34%__\n",
        "In accordance with the above results, I do beleive that sequencing error rates impact read alignment."
      ],
      "metadata": {
        "id": "PmBG8PF-qtP7"
      }
    }
  ]
}